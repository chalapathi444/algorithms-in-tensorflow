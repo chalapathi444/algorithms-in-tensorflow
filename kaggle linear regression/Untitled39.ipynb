{
  "nbformat": 4,
  "nbformat_minor": 0,
  "metadata": {
    "colab": {
      "name": "Untitled39.ipynb",
      "provenance": []
    },
    "kernelspec": {
      "name": "python3",
      "display_name": "Python 3"
    }
  },
  "cells": [
    {
      "cell_type": "code",
      "metadata": {
        "id": "DS7yFJ6SE2iY",
        "colab_type": "code",
        "colab": {}
      },
      "source": [
        "%tensorflow_version 2.x"
      ],
      "execution_count": 0,
      "outputs": []
    },
    {
      "cell_type": "code",
      "metadata": {
        "id": "i34B026JFz37",
        "colab_type": "code",
        "colab": {}
      },
      "source": [
        "import numpy as np\n",
        "import matplotlib.pyplot as plt\n",
        "import seaborn as sea\n",
        "import tensorflow as tf\n",
        "import pandas as pd\n",
        "from tensorflow import keras "
      ],
      "execution_count": 0,
      "outputs": []
    },
    {
      "cell_type": "code",
      "metadata": {
        "id": "rVnW32Ag5pO3",
        "colab_type": "code",
        "colab": {}
      },
      "source": [
        "df = pd.read_csv(\"insurance.csv\")"
      ],
      "execution_count": 0,
      "outputs": []
    },
    {
      "cell_type": "code",
      "metadata": {
        "id": "7ltN_8ukAgDo",
        "colab_type": "code",
        "colab": {}
      },
      "source": [
        ""
      ],
      "execution_count": 0,
      "outputs": []
    },
    {
      "cell_type": "code",
      "metadata": {
        "id": "y5yKBKgJJk4p",
        "colab_type": "code",
        "outputId": "632a47b5-f858-4848-bc86-1152a900fadf",
        "colab": {
          "base_uri": "https://localhost:8080/",
          "height": 206
        }
      },
      "source": [
        "df.head()"
      ],
      "execution_count": 163,
      "outputs": [
        {
          "output_type": "execute_result",
          "data": {
            "text/html": [
              "<div>\n",
              "<style scoped>\n",
              "    .dataframe tbody tr th:only-of-type {\n",
              "        vertical-align: middle;\n",
              "    }\n",
              "\n",
              "    .dataframe tbody tr th {\n",
              "        vertical-align: top;\n",
              "    }\n",
              "\n",
              "    .dataframe thead th {\n",
              "        text-align: right;\n",
              "    }\n",
              "</style>\n",
              "<table border=\"1\" class=\"dataframe\">\n",
              "  <thead>\n",
              "    <tr style=\"text-align: right;\">\n",
              "      <th></th>\n",
              "      <th>age</th>\n",
              "      <th>sex</th>\n",
              "      <th>bmi</th>\n",
              "      <th>children</th>\n",
              "      <th>smoker</th>\n",
              "      <th>region</th>\n",
              "      <th>charges</th>\n",
              "    </tr>\n",
              "  </thead>\n",
              "  <tbody>\n",
              "    <tr>\n",
              "      <th>0</th>\n",
              "      <td>19</td>\n",
              "      <td>female</td>\n",
              "      <td>27.900</td>\n",
              "      <td>0</td>\n",
              "      <td>yes</td>\n",
              "      <td>southwest</td>\n",
              "      <td>16884.92400</td>\n",
              "    </tr>\n",
              "    <tr>\n",
              "      <th>1</th>\n",
              "      <td>18</td>\n",
              "      <td>male</td>\n",
              "      <td>33.770</td>\n",
              "      <td>1</td>\n",
              "      <td>no</td>\n",
              "      <td>southeast</td>\n",
              "      <td>1725.55230</td>\n",
              "    </tr>\n",
              "    <tr>\n",
              "      <th>2</th>\n",
              "      <td>28</td>\n",
              "      <td>male</td>\n",
              "      <td>33.000</td>\n",
              "      <td>3</td>\n",
              "      <td>no</td>\n",
              "      <td>southeast</td>\n",
              "      <td>4449.46200</td>\n",
              "    </tr>\n",
              "    <tr>\n",
              "      <th>3</th>\n",
              "      <td>33</td>\n",
              "      <td>male</td>\n",
              "      <td>22.705</td>\n",
              "      <td>0</td>\n",
              "      <td>no</td>\n",
              "      <td>northwest</td>\n",
              "      <td>21984.47061</td>\n",
              "    </tr>\n",
              "    <tr>\n",
              "      <th>4</th>\n",
              "      <td>32</td>\n",
              "      <td>male</td>\n",
              "      <td>28.880</td>\n",
              "      <td>0</td>\n",
              "      <td>no</td>\n",
              "      <td>northwest</td>\n",
              "      <td>3866.85520</td>\n",
              "    </tr>\n",
              "  </tbody>\n",
              "</table>\n",
              "</div>"
            ],
            "text/plain": [
              "   age     sex     bmi  children smoker     region      charges\n",
              "0   19  female  27.900         0    yes  southwest  16884.92400\n",
              "1   18    male  33.770         1     no  southeast   1725.55230\n",
              "2   28    male  33.000         3     no  southeast   4449.46200\n",
              "3   33    male  22.705         0     no  northwest  21984.47061\n",
              "4   32    male  28.880         0     no  northwest   3866.85520"
            ]
          },
          "metadata": {
            "tags": []
          },
          "execution_count": 163
        }
      ]
    },
    {
      "cell_type": "code",
      "metadata": {
        "id": "U841puekF47y",
        "colab_type": "code",
        "outputId": "a3ff9dd6-3763-4dc9-a977-7ba84f462739",
        "colab": {
          "base_uri": "https://localhost:8080/",
          "height": 160
        }
      },
      "source": [
        "df = pd.read_csv(\"insurance.csv\")\n",
        "df.isnull().sum(axis = 0)"
      ],
      "execution_count": 164,
      "outputs": [
        {
          "output_type": "execute_result",
          "data": {
            "text/plain": [
              "age         0\n",
              "sex         0\n",
              "bmi         0\n",
              "children    0\n",
              "smoker      0\n",
              "region      0\n",
              "charges     0\n",
              "dtype: int64"
            ]
          },
          "metadata": {
            "tags": []
          },
          "execution_count": 164
        }
      ]
    },
    {
      "cell_type": "code",
      "metadata": {
        "id": "3xa4_uodGg__",
        "colab_type": "code",
        "outputId": "d08b5ae3-6d54-44e8-d5cd-60f5e35a334a",
        "colab": {
          "base_uri": "https://localhost:8080/",
          "height": 206
        }
      },
      "source": [
        "pd.crosstab(df['region'],df['sex'])\n"
      ],
      "execution_count": 165,
      "outputs": [
        {
          "output_type": "execute_result",
          "data": {
            "text/html": [
              "<div>\n",
              "<style scoped>\n",
              "    .dataframe tbody tr th:only-of-type {\n",
              "        vertical-align: middle;\n",
              "    }\n",
              "\n",
              "    .dataframe tbody tr th {\n",
              "        vertical-align: top;\n",
              "    }\n",
              "\n",
              "    .dataframe thead th {\n",
              "        text-align: right;\n",
              "    }\n",
              "</style>\n",
              "<table border=\"1\" class=\"dataframe\">\n",
              "  <thead>\n",
              "    <tr style=\"text-align: right;\">\n",
              "      <th>sex</th>\n",
              "      <th>female</th>\n",
              "      <th>male</th>\n",
              "    </tr>\n",
              "    <tr>\n",
              "      <th>region</th>\n",
              "      <th></th>\n",
              "      <th></th>\n",
              "    </tr>\n",
              "  </thead>\n",
              "  <tbody>\n",
              "    <tr>\n",
              "      <th>northeast</th>\n",
              "      <td>161</td>\n",
              "      <td>163</td>\n",
              "    </tr>\n",
              "    <tr>\n",
              "      <th>northwest</th>\n",
              "      <td>164</td>\n",
              "      <td>161</td>\n",
              "    </tr>\n",
              "    <tr>\n",
              "      <th>southeast</th>\n",
              "      <td>175</td>\n",
              "      <td>189</td>\n",
              "    </tr>\n",
              "    <tr>\n",
              "      <th>southwest</th>\n",
              "      <td>162</td>\n",
              "      <td>163</td>\n",
              "    </tr>\n",
              "  </tbody>\n",
              "</table>\n",
              "</div>"
            ],
            "text/plain": [
              "sex        female  male\n",
              "region                 \n",
              "northeast     161   163\n",
              "northwest     164   161\n",
              "southeast     175   189\n",
              "southwest     162   163"
            ]
          },
          "metadata": {
            "tags": []
          },
          "execution_count": 165
        }
      ]
    },
    {
      "cell_type": "code",
      "metadata": {
        "id": "mn8RmDXxIojH",
        "colab_type": "code",
        "outputId": "847728ef-d6b2-4d97-8e8e-12e3f0f8c753",
        "colab": {
          "base_uri": "https://localhost:8080/",
          "height": 319
        }
      },
      "source": [
        "df.boxplot(column ='charges',by = 'region')"
      ],
      "execution_count": 166,
      "outputs": [
        {
          "output_type": "execute_result",
          "data": {
            "text/plain": [
              "<matplotlib.axes._subplots.AxesSubplot at 0x7f56cd67eeb8>"
            ]
          },
          "metadata": {
            "tags": []
          },
          "execution_count": 166
        },
        {
          "output_type": "display_data",
          "data": {
            "image/png": "[encoded data removed]",
            "text/plain": [
              "<Figure size 432x288 with 1 Axes>"
            ]
          },
          "metadata": {
            "tags": []
          }
        }
      ]
    },
    {
      "cell_type": "code",
      "metadata": {
        "id": "egzIvuamNMXU",
        "colab_type": "code",
        "outputId": "8840b276-b41f-43a8-f6cf-5f16be81c7d4",
        "colab": {
          "base_uri": "https://localhost:8080/",
          "height": 297
        }
      },
      "source": [
        "df.plot.scatter(x = 'charges',y = 'bmi')"
      ],
      "execution_count": 167,
      "outputs": [
        {
          "output_type": "execute_result",
          "data": {
            "text/plain": [
              "<matplotlib.axes._subplots.AxesSubplot at 0x7f56cd5fd470>"
            ]
          },
          "metadata": {
            "tags": []
          },
          "execution_count": 167
        },
        {
          "output_type": "display_data",
          "data": {
            "image/png": "[encoded data removed]",
            "text/plain": [
              "<Figure size 432x288 with 1 Axes>"
            ]
          },
          "metadata": {
            "tags": []
          }
        }
      ]
    },
    {
      "cell_type": "code",
      "metadata": {
        "id": "P-fJkFw-TRif",
        "colab_type": "code",
        "outputId": "177a50dd-4faf-40a0-8059-07d4614c9f6e",
        "colab": {
          "base_uri": "https://localhost:8080/",
          "height": 297
        }
      },
      "source": [
        "sea.violinplot(x= 'smoker',y = 'charges',data = df,hue = 'smoker')"
      ],
      "execution_count": 168,
      "outputs": [
        {
          "output_type": "execute_result",
          "data": {
            "text/plain": [
              "<matplotlib.axes._subplots.AxesSubplot at 0x7f56cd57acf8>"
            ]
          },
          "metadata": {
            "tags": []
          },
          "execution_count": 168
        },
        {
          "output_type": "display_data",
          "data": {
            "image/png": "[encoded data removed]",
            "text/plain": [
              "<Figure size 432x288 with 1 Axes>"
            ]
          },
          "metadata": {
            "tags": []
          }
        }
      ]
    },
    {
      "cell_type": "code",
      "metadata": {
        "id": "yaQKzNzeWOOd",
        "colab_type": "code",
        "outputId": "a007c6fe-f477-4ab3-8f9c-d86579935cd3",
        "colab": {
          "base_uri": "https://localhost:8080/",
          "height": 279
        }
      },
      "source": [
        "#swarm plot\n",
        "\n",
        "sea.swarmplot(x = 'region', y = 'charges', data = df, hue = 'region')\n",
        "plt.show()"
      ],
      "execution_count": 169,
      "outputs": [
        {
          "output_type": "display_data",
          "data": {
            "image/png": "[encoded data removed]",
            "text/plain": [
              "<Figure size 432x288 with 1 Axes>"
            ]
          },
          "metadata": {
            "tags": []
          }
        }
      ]
    },
    {
      "cell_type": "code",
      "metadata": {
        "id": "X8KRk9ILW6is",
        "colab_type": "code",
        "outputId": "a4706c0f-91ba-411d-cfe0-5d3ca7eeab6c",
        "colab": {
          "base_uri": "https://localhost:8080/",
          "height": 206
        }
      },
      "source": [
        "df.head()"
      ],
      "execution_count": 170,
      "outputs": [
        {
          "output_type": "execute_result",
          "data": {
            "text/html": [
              "<div>\n",
              "<style scoped>\n",
              "    .dataframe tbody tr th:only-of-type {\n",
              "        vertical-align: middle;\n",
              "    }\n",
              "\n",
              "    .dataframe tbody tr th {\n",
              "        vertical-align: top;\n",
              "    }\n",
              "\n",
              "    .dataframe thead th {\n",
              "        text-align: right;\n",
              "    }\n",
              "</style>\n",
              "<table border=\"1\" class=\"dataframe\">\n",
              "  <thead>\n",
              "    <tr style=\"text-align: right;\">\n",
              "      <th></th>\n",
              "      <th>age</th>\n",
              "      <th>sex</th>\n",
              "      <th>bmi</th>\n",
              "      <th>children</th>\n",
              "      <th>smoker</th>\n",
              "      <th>region</th>\n",
              "      <th>charges</th>\n",
              "    </tr>\n",
              "  </thead>\n",
              "  <tbody>\n",
              "    <tr>\n",
              "      <th>0</th>\n",
              "      <td>19</td>\n",
              "      <td>female</td>\n",
              "      <td>27.900</td>\n",
              "      <td>0</td>\n",
              "      <td>yes</td>\n",
              "      <td>southwest</td>\n",
              "      <td>16884.92400</td>\n",
              "    </tr>\n",
              "    <tr>\n",
              "      <th>1</th>\n",
              "      <td>18</td>\n",
              "      <td>male</td>\n",
              "      <td>33.770</td>\n",
              "      <td>1</td>\n",
              "      <td>no</td>\n",
              "      <td>southeast</td>\n",
              "      <td>1725.55230</td>\n",
              "    </tr>\n",
              "    <tr>\n",
              "      <th>2</th>\n",
              "      <td>28</td>\n",
              "      <td>male</td>\n",
              "      <td>33.000</td>\n",
              "      <td>3</td>\n",
              "      <td>no</td>\n",
              "      <td>southeast</td>\n",
              "      <td>4449.46200</td>\n",
              "    </tr>\n",
              "    <tr>\n",
              "      <th>3</th>\n",
              "      <td>33</td>\n",
              "      <td>male</td>\n",
              "      <td>22.705</td>\n",
              "      <td>0</td>\n",
              "      <td>no</td>\n",
              "      <td>northwest</td>\n",
              "      <td>21984.47061</td>\n",
              "    </tr>\n",
              "    <tr>\n",
              "      <th>4</th>\n",
              "      <td>32</td>\n",
              "      <td>male</td>\n",
              "      <td>28.880</td>\n",
              "      <td>0</td>\n",
              "      <td>no</td>\n",
              "      <td>northwest</td>\n",
              "      <td>3866.85520</td>\n",
              "    </tr>\n",
              "  </tbody>\n",
              "</table>\n",
              "</div>"
            ],
            "text/plain": [
              "   age     sex     bmi  children smoker     region      charges\n",
              "0   19  female  27.900         0    yes  southwest  16884.92400\n",
              "1   18    male  33.770         1     no  southeast   1725.55230\n",
              "2   28    male  33.000         3     no  southeast   4449.46200\n",
              "3   33    male  22.705         0     no  northwest  21984.47061\n",
              "4   32    male  28.880         0     no  northwest   3866.85520"
            ]
          },
          "metadata": {
            "tags": []
          },
          "execution_count": 170
        }
      ]
    },
    {
      "cell_type": "code",
      "metadata": {
        "id": "pTRlxUgPYMKT",
        "colab_type": "code",
        "colab": {}
      },
      "source": [
        "train_data = df[0:1000]\n",
        "test_data  = df[1000:1200]"
      ],
      "execution_count": 0,
      "outputs": []
    },
    {
      "cell_type": "code",
      "metadata": {
        "id": "1RAglRbWcmmy",
        "colab_type": "code",
        "colab": {}
      },
      "source": [
        "y_train = train_data['charges']\n",
        "y_test = test_data['charges']\n",
        "train_data = train_data.drop(columns = 'charges')\n",
        "test_data = test_data.drop(columns = 'charges')\n"
      ],
      "execution_count": 0,
      "outputs": []
    },
    {
      "cell_type": "code",
      "metadata": {
        "id": "JpP9UqeldWbT",
        "colab_type": "code",
        "outputId": "c868541d-981b-47e5-8329-5652b8e20796",
        "colab": {
          "base_uri": "https://localhost:8080/",
          "height": 206
        }
      },
      "source": [
        "train_data = train_data.replace({'sex':{'male':0,'female':1}})\n",
        "train_data = train_data.replace({'smoker':{'yes':1,'no':0}})\n",
        "train_data = train_data.replace({'region':{'southwest':0,'southeast':1,'northwest':2,'northeast':3}})\n",
        "train_data.head()"
      ],
      "execution_count": 173,
      "outputs": [
        {
          "output_type": "execute_result",
          "data": {
            "text/html": [
              "<div>\n",
              "<style scoped>\n",
              "    .dataframe tbody tr th:only-of-type {\n",
              "        vertical-align: middle;\n",
              "    }\n",
              "\n",
              "    .dataframe tbody tr th {\n",
              "        vertical-align: top;\n",
              "    }\n",
              "\n",
              "    .dataframe thead th {\n",
              "        text-align: right;\n",
              "    }\n",
              "</style>\n",
              "<table border=\"1\" class=\"dataframe\">\n",
              "  <thead>\n",
              "    <tr style=\"text-align: right;\">\n",
              "      <th></th>\n",
              "      <th>age</th>\n",
              "      <th>sex</th>\n",
              "      <th>bmi</th>\n",
              "      <th>children</th>\n",
              "      <th>smoker</th>\n",
              "      <th>region</th>\n",
              "    </tr>\n",
              "  </thead>\n",
              "  <tbody>\n",
              "    <tr>\n",
              "      <th>0</th>\n",
              "      <td>19</td>\n",
              "      <td>1</td>\n",
              "      <td>27.900</td>\n",
              "      <td>0</td>\n",
              "      <td>1</td>\n",
              "      <td>0</td>\n",
              "    </tr>\n",
              "    <tr>\n",
              "      <th>1</th>\n",
              "      <td>18</td>\n",
              "      <td>0</td>\n",
              "      <td>33.770</td>\n",
              "      <td>1</td>\n",
              "      <td>0</td>\n",
              "      <td>1</td>\n",
              "    </tr>\n",
              "    <tr>\n",
              "      <th>2</th>\n",
              "      <td>28</td>\n",
              "      <td>0</td>\n",
              "      <td>33.000</td>\n",
              "      <td>3</td>\n",
              "      <td>0</td>\n",
              "      <td>1</td>\n",
              "    </tr>\n",
              "    <tr>\n",
              "      <th>3</th>\n",
              "      <td>33</td>\n",
              "      <td>0</td>\n",
              "      <td>22.705</td>\n",
              "      <td>0</td>\n",
              "      <td>0</td>\n",
              "      <td>2</td>\n",
              "    </tr>\n",
              "    <tr>\n",
              "      <th>4</th>\n",
              "      <td>32</td>\n",
              "      <td>0</td>\n",
              "      <td>28.880</td>\n",
              "      <td>0</td>\n",
              "      <td>0</td>\n",
              "      <td>2</td>\n",
              "    </tr>\n",
              "  </tbody>\n",
              "</table>\n",
              "</div>"
            ],
            "text/plain": [
              "   age  sex     bmi  children  smoker  region\n",
              "0   19    1  27.900         0       1       0\n",
              "1   18    0  33.770         1       0       1\n",
              "2   28    0  33.000         3       0       1\n",
              "3   33    0  22.705         0       0       2\n",
              "4   32    0  28.880         0       0       2"
            ]
          },
          "metadata": {
            "tags": []
          },
          "execution_count": 173
        }
      ]
    },
    {
      "cell_type": "code",
      "metadata": {
        "id": "2rOhbiPleKDp",
        "colab_type": "code",
        "colab": {}
      },
      "source": [
        "\n"
      ],
      "execution_count": 0,
      "outputs": []
    },
    {
      "cell_type": "code",
      "metadata": {
        "id": "iM4geX9geMUL",
        "colab_type": "code",
        "outputId": "9438dd73-d9a5-4f4d-eb73-3944b344283a",
        "colab": {
          "base_uri": "https://localhost:8080/",
          "height": 206
        }
      },
      "source": [
        "test_data = test_data.replace({'sex':{'male':0,'female':1}})\n",
        "test_data  = test_data.replace({'smoker':{'yes':1,'no':0}})\n",
        "test_data = test_data.replace({'region':{'southwest':0,'southeast':1,'northwest':2,'northeast':3}})\n",
        "test_data.head()"
      ],
      "execution_count": 174,
      "outputs": [
        {
          "output_type": "execute_result",
          "data": {
            "text/html": [
              "<div>\n",
              "<style scoped>\n",
              "    .dataframe tbody tr th:only-of-type {\n",
              "        vertical-align: middle;\n",
              "    }\n",
              "\n",
              "    .dataframe tbody tr th {\n",
              "        vertical-align: top;\n",
              "    }\n",
              "\n",
              "    .dataframe thead th {\n",
              "        text-align: right;\n",
              "    }\n",
              "</style>\n",
              "<table border=\"1\" class=\"dataframe\">\n",
              "  <thead>\n",
              "    <tr style=\"text-align: right;\">\n",
              "      <th></th>\n",
              "      <th>age</th>\n",
              "      <th>sex</th>\n",
              "      <th>bmi</th>\n",
              "      <th>children</th>\n",
              "      <th>smoker</th>\n",
              "      <th>region</th>\n",
              "    </tr>\n",
              "  </thead>\n",
              "  <tbody>\n",
              "    <tr>\n",
              "      <th>1000</th>\n",
              "      <td>30</td>\n",
              "      <td>0</td>\n",
              "      <td>22.99</td>\n",
              "      <td>2</td>\n",
              "      <td>1</td>\n",
              "      <td>2</td>\n",
              "    </tr>\n",
              "    <tr>\n",
              "      <th>1001</th>\n",
              "      <td>24</td>\n",
              "      <td>0</td>\n",
              "      <td>32.70</td>\n",
              "      <td>0</td>\n",
              "      <td>1</td>\n",
              "      <td>0</td>\n",
              "    </tr>\n",
              "    <tr>\n",
              "      <th>1002</th>\n",
              "      <td>24</td>\n",
              "      <td>0</td>\n",
              "      <td>25.80</td>\n",
              "      <td>0</td>\n",
              "      <td>0</td>\n",
              "      <td>0</td>\n",
              "    </tr>\n",
              "    <tr>\n",
              "      <th>1003</th>\n",
              "      <td>48</td>\n",
              "      <td>0</td>\n",
              "      <td>29.60</td>\n",
              "      <td>0</td>\n",
              "      <td>0</td>\n",
              "      <td>0</td>\n",
              "    </tr>\n",
              "    <tr>\n",
              "      <th>1004</th>\n",
              "      <td>47</td>\n",
              "      <td>0</td>\n",
              "      <td>19.19</td>\n",
              "      <td>1</td>\n",
              "      <td>0</td>\n",
              "      <td>3</td>\n",
              "    </tr>\n",
              "  </tbody>\n",
              "</table>\n",
              "</div>"
            ],
            "text/plain": [
              "      age  sex    bmi  children  smoker  region\n",
              "1000   30    0  22.99         2       1       2\n",
              "1001   24    0  32.70         0       1       0\n",
              "1002   24    0  25.80         0       0       0\n",
              "1003   48    0  29.60         0       0       0\n",
              "1004   47    0  19.19         1       0       3"
            ]
          },
          "metadata": {
            "tags": []
          },
          "execution_count": 174
        }
      ]
    },
    {
      "cell_type": "code",
      "metadata": {
        "id": "SabXuSnVhMun",
        "colab_type": "code",
        "colab": {}
      },
      "source": [
        "X = train_data.to_numpy()\n",
        "maximum_element = np.max(X,axis = 0)\n",
        "X = X/maximum_element"
      ],
      "execution_count": 0,
      "outputs": []
    },
    {
      "cell_type": "code",
      "metadata": {
        "id": "kphz3VCIiXWR",
        "colab_type": "code",
        "colab": {}
      },
      "source": [
        "Y = y_train.to_numpy()\n",
        "maximum_Element = np.max(Y)\n",
        "Y = Y/maximum_Element"
      ],
      "execution_count": 0,
      "outputs": []
    },
    {
      "cell_type": "code",
      "metadata": {
        "id": "V-xsynpqih6h",
        "colab_type": "code",
        "outputId": "a6e5073a-df8f-411a-e06e-babf0301d40e",
        "colab": {
          "base_uri": "https://localhost:8080/",
          "height": 1000
        }
      },
      "source": [
        "model  =  keras.Sequential([keras.layers.Dense(units = 1,input_shape=[6]),keras.layers.Dense(units = 1),keras.layers.Dense(units = 1),keras.layers.Dense(units = 1)])\n",
        "model.compile(optimizer = 'rmsprop',loss = 'mean_squared_error')\n",
        "model.fit(X,Y,epochs = 100)"
      ],
      "execution_count": 177,
      "outputs": [
        {
          "output_type": "stream",
          "text": [
            "Train on 1000 samples\n",
            "Epoch 1/100\n",
            "1000/1000 [==============================] - 1s 806us/sample - loss: 0.3880\n",
            "Epoch 2/100\n",
            "1000/1000 [==============================] - 0s 49us/sample - loss: 0.2375\n",
            "Epoch 3/100\n",
            "1000/1000 [==============================] - 0s 47us/sample - loss: 0.1547\n",
            "Epoch 4/100\n",
            "1000/1000 [==============================] - 0s 44us/sample - loss: 0.1084\n",
            "Epoch 5/100\n",
            "1000/1000 [==============================] - 0s 47us/sample - loss: 0.0859\n",
            "Epoch 6/100\n",
            "1000/1000 [==============================] - 0s 45us/sample - loss: 0.0748\n",
            "Epoch 7/100\n",
            "1000/1000 [==============================] - 0s 44us/sample - loss: 0.0670\n",
            "Epoch 8/100\n",
            "1000/1000 [==============================] - 0s 44us/sample - loss: 0.0605\n",
            "Epoch 9/100\n",
            "1000/1000 [==============================] - 0s 46us/sample - loss: 0.0552\n",
            "Epoch 10/100\n",
            "1000/1000 [==============================] - 0s 47us/sample - loss: 0.0510\n",
            "Epoch 11/100\n",
            "1000/1000 [==============================] - 0s 45us/sample - loss: 0.0476\n",
            "Epoch 12/100\n",
            "1000/1000 [==============================] - 0s 44us/sample - loss: 0.0449\n",
            "Epoch 13/100\n",
            "1000/1000 [==============================] - 0s 49us/sample - loss: 0.0427\n",
            "Epoch 14/100\n",
            "1000/1000 [==============================] - 0s 51us/sample - loss: 0.0410\n",
            "Epoch 15/100\n",
            "1000/1000 [==============================] - 0s 46us/sample - loss: 0.0397\n",
            "Epoch 16/100\n",
            "1000/1000 [==============================] - 0s 49us/sample - loss: 0.0386\n",
            "Epoch 17/100\n",
            "1000/1000 [==============================] - 0s 51us/sample - loss: 0.0379\n",
            "Epoch 18/100\n",
            "1000/1000 [==============================] - 0s 52us/sample - loss: 0.0373\n",
            "Epoch 19/100\n",
            "1000/1000 [==============================] - 0s 52us/sample - loss: 0.0368\n",
            "Epoch 20/100\n",
            "1000/1000 [==============================] - 0s 53us/sample - loss: 0.0364\n",
            "Epoch 21/100\n",
            "1000/1000 [==============================] - 0s 47us/sample - loss: 0.0362\n",
            "Epoch 22/100\n",
            "1000/1000 [==============================] - 0s 49us/sample - loss: 0.0360\n",
            "Epoch 23/100\n",
            "1000/1000 [==============================] - 0s 46us/sample - loss: 0.0358\n",
            "Epoch 24/100\n",
            "1000/1000 [==============================] - 0s 48us/sample - loss: 0.0357\n",
            "Epoch 25/100\n",
            "1000/1000 [==============================] - 0s 47us/sample - loss: 0.0356\n",
            "Epoch 26/100\n",
            "1000/1000 [==============================] - 0s 46us/sample - loss: 0.0355\n",
            "Epoch 27/100\n",
            "1000/1000 [==============================] - 0s 46us/sample - loss: 0.0355\n",
            "Epoch 28/100\n",
            "1000/1000 [==============================] - 0s 46us/sample - loss: 0.0354\n",
            "Epoch 29/100\n",
            "1000/1000 [==============================] - 0s 46us/sample - loss: 0.0353\n",
            "Epoch 30/100\n",
            "1000/1000 [==============================] - 0s 48us/sample - loss: 0.0353\n",
            "Epoch 31/100\n",
            "1000/1000 [==============================] - 0s 50us/sample - loss: 0.0352\n",
            "Epoch 32/100\n",
            "1000/1000 [==============================] - 0s 54us/sample - loss: 0.0351\n",
            "Epoch 33/100\n",
            "1000/1000 [==============================] - 0s 54us/sample - loss: 0.0351\n",
            "Epoch 34/100\n",
            "1000/1000 [==============================] - 0s 65us/sample - loss: 0.0350\n",
            "Epoch 35/100\n",
            "1000/1000 [==============================] - 0s 48us/sample - loss: 0.0349\n",
            "Epoch 36/100\n",
            "1000/1000 [==============================] - 0s 47us/sample - loss: 0.0348\n",
            "Epoch 37/100\n",
            "1000/1000 [==============================] - 0s 46us/sample - loss: 0.0347\n",
            "Epoch 38/100\n",
            "1000/1000 [==============================] - 0s 48us/sample - loss: 0.0345\n",
            "Epoch 39/100\n",
            "1000/1000 [==============================] - 0s 48us/sample - loss: 0.0343\n",
            "Epoch 40/100\n",
            "1000/1000 [==============================] - 0s 54us/sample - loss: 0.0341\n",
            "Epoch 41/100\n",
            "1000/1000 [==============================] - 0s 45us/sample - loss: 0.0338\n",
            "Epoch 42/100\n",
            "1000/1000 [==============================] - 0s 45us/sample - loss: 0.0335\n",
            "Epoch 43/100\n",
            "1000/1000 [==============================] - 0s 47us/sample - loss: 0.0331\n",
            "Epoch 44/100\n",
            "1000/1000 [==============================] - 0s 48us/sample - loss: 0.0327\n",
            "Epoch 45/100\n",
            "1000/1000 [==============================] - 0s 46us/sample - loss: 0.0322\n",
            "Epoch 46/100\n",
            "1000/1000 [==============================] - 0s 44us/sample - loss: 0.0316\n",
            "Epoch 47/100\n",
            "1000/1000 [==============================] - 0s 44us/sample - loss: 0.0309\n",
            "Epoch 48/100\n",
            "1000/1000 [==============================] - 0s 44us/sample - loss: 0.0302\n",
            "Epoch 49/100\n",
            "1000/1000 [==============================] - 0s 45us/sample - loss: 0.0293\n",
            "Epoch 50/100\n",
            "1000/1000 [==============================] - 0s 46us/sample - loss: 0.0284\n",
            "Epoch 51/100\n",
            "1000/1000 [==============================] - 0s 44us/sample - loss: 0.0275\n",
            "Epoch 52/100\n",
            "1000/1000 [==============================] - 0s 45us/sample - loss: 0.0264\n",
            "Epoch 53/100\n",
            "1000/1000 [==============================] - 0s 47us/sample - loss: 0.0253\n",
            "Epoch 54/100\n",
            "1000/1000 [==============================] - 0s 49us/sample - loss: 0.0241\n",
            "Epoch 55/100\n",
            "1000/1000 [==============================] - 0s 45us/sample - loss: 0.0228\n",
            "Epoch 56/100\n",
            "1000/1000 [==============================] - 0s 48us/sample - loss: 0.0212\n",
            "Epoch 57/100\n",
            "1000/1000 [==============================] - 0s 45us/sample - loss: 0.0200\n",
            "Epoch 58/100\n",
            "1000/1000 [==============================] - 0s 44us/sample - loss: 0.0187\n",
            "Epoch 59/100\n",
            "1000/1000 [==============================] - 0s 45us/sample - loss: 0.0175\n",
            "Epoch 60/100\n",
            "1000/1000 [==============================] - 0s 47us/sample - loss: 0.0164\n",
            "Epoch 61/100\n",
            "1000/1000 [==============================] - 0s 44us/sample - loss: 0.0153\n",
            "Epoch 62/100\n",
            "1000/1000 [==============================] - 0s 46us/sample - loss: 0.0144\n",
            "Epoch 63/100\n",
            "1000/1000 [==============================] - 0s 46us/sample - loss: 0.0136\n",
            "Epoch 64/100\n",
            "1000/1000 [==============================] - 0s 45us/sample - loss: 0.0128\n",
            "Epoch 65/100\n",
            "1000/1000 [==============================] - 0s 45us/sample - loss: 0.0122\n",
            "Epoch 66/100\n",
            "1000/1000 [==============================] - 0s 44us/sample - loss: 0.0118\n",
            "Epoch 67/100\n",
            "1000/1000 [==============================] - 0s 45us/sample - loss: 0.0114\n",
            "Epoch 68/100\n",
            "1000/1000 [==============================] - 0s 46us/sample - loss: 0.0112\n",
            "Epoch 69/100\n",
            "1000/1000 [==============================] - 0s 44us/sample - loss: 0.0109\n",
            "Epoch 70/100\n",
            "1000/1000 [==============================] - 0s 43us/sample - loss: 0.0107\n",
            "Epoch 71/100\n",
            "1000/1000 [==============================] - 0s 46us/sample - loss: 0.0105\n",
            "Epoch 72/100\n",
            "1000/1000 [==============================] - 0s 43us/sample - loss: 0.0103\n",
            "Epoch 73/100\n",
            "1000/1000 [==============================] - 0s 44us/sample - loss: 0.0102\n",
            "Epoch 74/100\n",
            "1000/1000 [==============================] - 0s 44us/sample - loss: 0.0101\n",
            "Epoch 75/100\n",
            "1000/1000 [==============================] - 0s 46us/sample - loss: 0.0100\n",
            "Epoch 76/100\n",
            "1000/1000 [==============================] - 0s 46us/sample - loss: 0.0098\n",
            "Epoch 77/100\n",
            "1000/1000 [==============================] - 0s 46us/sample - loss: 0.0098\n",
            "Epoch 78/100\n",
            "1000/1000 [==============================] - 0s 52us/sample - loss: 0.0097\n",
            "Epoch 79/100\n",
            "1000/1000 [==============================] - 0s 64us/sample - loss: 0.0096\n",
            "Epoch 80/100\n",
            "1000/1000 [==============================] - 0s 51us/sample - loss: 0.0096\n",
            "Epoch 81/100\n",
            "1000/1000 [==============================] - 0s 43us/sample - loss: 0.0095\n",
            "Epoch 82/100\n",
            "1000/1000 [==============================] - 0s 46us/sample - loss: 0.0094\n",
            "Epoch 83/100\n",
            "1000/1000 [==============================] - 0s 44us/sample - loss: 0.0093\n",
            "Epoch 84/100\n",
            "1000/1000 [==============================] - 0s 50us/sample - loss: 0.0093\n",
            "Epoch 85/100\n",
            "1000/1000 [==============================] - 0s 45us/sample - loss: 0.0093\n",
            "Epoch 86/100\n",
            "1000/1000 [==============================] - 0s 44us/sample - loss: 0.0091\n",
            "Epoch 87/100\n",
            "1000/1000 [==============================] - 0s 49us/sample - loss: 0.0092\n",
            "Epoch 88/100\n",
            "1000/1000 [==============================] - 0s 47us/sample - loss: 0.0091\n",
            "Epoch 89/100\n",
            "1000/1000 [==============================] - 0s 46us/sample - loss: 0.0091\n",
            "Epoch 90/100\n",
            "1000/1000 [==============================] - 0s 45us/sample - loss: 0.0090\n",
            "Epoch 91/100\n",
            "1000/1000 [==============================] - 0s 44us/sample - loss: 0.0090\n",
            "Epoch 92/100\n",
            "1000/1000 [==============================] - 0s 45us/sample - loss: 0.0091\n",
            "Epoch 93/100\n",
            "1000/1000 [==============================] - 0s 42us/sample - loss: 0.0089\n",
            "Epoch 94/100\n",
            "1000/1000 [==============================] - 0s 45us/sample - loss: 0.0090\n",
            "Epoch 95/100\n",
            "1000/1000 [==============================] - 0s 46us/sample - loss: 0.0089\n",
            "Epoch 96/100\n",
            "1000/1000 [==============================] - 0s 43us/sample - loss: 0.0089\n",
            "Epoch 97/100\n",
            "1000/1000 [==============================] - 0s 47us/sample - loss: 0.0089\n",
            "Epoch 98/100\n",
            "1000/1000 [==============================] - 0s 43us/sample - loss: 0.0088\n",
            "Epoch 99/100\n",
            "1000/1000 [==============================] - 0s 49us/sample - loss: 0.0088\n",
            "Epoch 100/100\n",
            "1000/1000 [==============================] - 0s 43us/sample - loss: 0.0089\n"
          ],
          "name": "stdout"
        },
        {
          "output_type": "execute_result",
          "data": {
            "text/plain": [
              "<tensorflow.python.keras.callbacks.History at 0x7f56cd429f60>"
            ]
          },
          "metadata": {
            "tags": []
          },
          "execution_count": 177
        }
      ]
    },
    {
      "cell_type": "code",
      "metadata": {
        "id": "gO1IOelljVMT",
        "colab_type": "code",
        "outputId": "85922228-07c1-4ef5-c2f6-d43b81aab304",
        "colab": {
          "base_uri": "https://localhost:8080/",
          "height": 35
        }
      },
      "source": [
        "X = test_data.to_numpy()\n",
        "Y = y_test.to_numpy()\n",
        "X = X/maximum_element\n",
        "Y = Y/maximum_Element\n",
        "loss = model.evaluate(X,Y)\n"
      ],
      "execution_count": 178,
      "outputs": [
        {
          "output_type": "stream",
          "text": [
            "200/200 [==============================] - 0s 281us/sample - loss: 0.0101\n"
          ],
          "name": "stdout"
        }
      ]
    },
    {
      "cell_type": "code",
      "metadata": {
        "id": "K8jCwhASmc6M",
        "colab_type": "code",
        "colab": {}
      },
      "source": [
        "predicted_y = model.predict(X)\n"
      ],
      "execution_count": 0,
      "outputs": []
    },
    {
      "cell_type": "code",
      "metadata": {
        "id": "tvcuybrjmw3n",
        "colab_type": "code",
        "colab": {}
      },
      "source": [
        "predicted_y  = predicted_y *maximum_Element\n",
        "actual_y = y_test.to_numpy()"
      ],
      "execution_count": 0,
      "outputs": []
    },
    {
      "cell_type": "code",
      "metadata": {
        "id": "Fx__5moDB252",
        "colab_type": "code",
        "colab": {}
      },
      "source": [
        "actual_y  = actual_y.reshape(200,1)\n",
        "k = np.linspace(1,2000,200)\n",
        "predicted_y = predicted_y[0:25,0]\n",
        "actual_y = actual_y[0:25,0]\n",
        "k = np.linspace(1,26,25)"
      ],
      "execution_count": 0,
      "outputs": []
    },
    {
      "cell_type": "code",
      "metadata": {
        "id": "W0M2VOA9nOSe",
        "colab_type": "code",
        "colab": {
          "base_uri": "https://localhost:8080/",
          "height": 630
        },
        "outputId": "0baf449a-7406-4ede-fca1-d5a0401f4999"
      },
      "source": [
        "plt.figure(figsize=(25,10))\n",
        "plt.scatter(k,predicted_y)\n",
        "plt.scatter(k,actual_y)"
      ],
      "execution_count": 182,
      "outputs": [
        {
          "output_type": "execute_result",
          "data": {
            "text/plain": [
              "<matplotlib.collections.PathCollection at 0x7f56cf08a588>"
            ]
          },
          "metadata": {
            "tags": []
          },
          "execution_count": 182
        },
        {
          "output_type": "display_data",
          "data": {
            "image/png": "[encoded data removed]",
            "text/plain": [
              "<Figure size 1800x720 with 1 Axes>"
            ]
          },
          "metadata": {
            "tags": []
          }
        }
      ]
    },
    {
      "cell_type": "code",
      "metadata": {
        "id": "ir8UGrj1BeuJ",
        "colab_type": "code",
        "colab": {}
      },
      "source": [
        ""
      ],
      "execution_count": 0,
      "outputs": []
    }
  ]
}