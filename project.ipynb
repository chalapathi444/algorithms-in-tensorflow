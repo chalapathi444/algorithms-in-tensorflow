{
  "nbformat": 4,
  "nbformat_minor": 0,
  "metadata": {
    "colab": {
      "name": "project.ipynb",
      "provenance": [],
      "collapsed_sections": [],
      "machine_shape": "hm",
      "mount_file_id": "1ZS6OYeOP6t_g9N1u3ZDUyEHk6mH1_RIr",
      "authorship_tag": "ABX9TyOlEkwiB9Ok6PWlERxkff7Y",
      "include_colab_link": true
    },
    "kernelspec": {
      "name": "python3",
      "display_name": "Python 3"
    },
    "accelerator": "TPU"
  },
  "cells": [
    {
      "cell_type": "markdown",
      "metadata": {
        "id": "view-in-github",
        "colab_type": "text"
      },
      "source": [
        "<a href=\"https://colab.research.google.com/github/chalapathi444/algorithms-in-tensorflow/blob/master/project.ipynb\" target=\"_parent\"><img src=\"https://colab.research.google.com/assets/colab-badge.svg\" alt=\"Open In Colab\"/></a>"
      ]
    },
    {
      "cell_type": "code",
      "metadata": {
        "id": "07BAHSL0bfWU",
        "colab_type": "code",
        "outputId": "0865ccfc-0227-40a4-f34d-ed1632084788",
        "colab": {
          "base_uri": "https://localhost:8080/",
          "height": 35
        }
      },
      "source": [
        "%tensorflow_version 2.x"
      ],
      "execution_count": 1,
      "outputs": [
        {
          "output_type": "stream",
          "text": [
            "TensorFlow 2.x selected.\n"
          ],
          "name": "stdout"
        }
      ]
    },
    {
      "cell_type": "markdown",
      "metadata": {
        "id": "oFFqDjgjwdLE",
        "colab_type": "text"
      },
      "source": [
        "**THE LIBRARIES REQUIRED FOR THIS MODEL**"
      ]
    },
    {
      "cell_type": "code",
      "metadata": {
        "id": "tGNacYkAbqES",
        "colab_type": "code",
        "colab": {}
      },
      "source": [
        "import sys \n",
        "import os\n",
        "import numpy as np\n",
        "import matplotlib.pyplot as plt\n",
        "import tensorflow as tf\n",
        "from tensorflow import keras\n",
        "import pandas as pd\n",
        "import cv2"
      ],
      "execution_count": 0,
      "outputs": []
    },
    {
      "cell_type": "markdown",
      "metadata": {
        "id": "S9zR7UzewpGm",
        "colab_type": "text"
      },
      "source": [
        "This model is about classifiying a images of two classes. The two classes are \n",
        "\n",
        "*   image of blood cell affected by Diarrhea\n",
        "*    image of blodd cell not affected by Diarrhea\n",
        "\n",
        "I have converted the images into numpy arrays and stored in drive "
      ]
    },
    {
      "cell_type": "code",
      "metadata": {
        "id": "TrZEEUuu4mGv",
        "colab_type": "code",
        "outputId": "5b04350b-9212-4229-dfa7-4522f67695ad",
        "colab": {
          "base_uri": "https://localhost:8080/",
          "height": 35
        }
      },
      "source": [
        "X1 = np.load('/content/drive/My Drive/some.npy')\n",
        "Y1 = np.ones((X1.shape[0],1))\n",
        "print(X1[0].shape)"
      ],
      "execution_count": 3,
      "outputs": [
        {
          "output_type": "stream",
          "text": [
            "(50, 50, 3)\n"
          ],
          "name": "stdout"
        }
      ]
    },
    {
      "cell_type": "code",
      "metadata": {
        "id": "lRwNX1NS-xI5",
        "colab_type": "code",
        "colab": {}
      },
      "source": [
        "X2 = np.load('/content/drive/My Drive/some2.npy')\n",
        "Y2 = np.zeros((X2.shape[0],1))"
      ],
      "execution_count": 0,
      "outputs": []
    },
    {
      "cell_type": "markdown",
      "metadata": {
        "id": "XLlZdzP6yHzX",
        "colab_type": "text"
      },
      "source": [
        "Visualizing the images\n"
      ]
    },
    {
      "cell_type": "code",
      "metadata": {
        "id": "f_7n5_PMyGUk",
        "colab_type": "code",
        "outputId": "3c90c0f9-1da5-4623-ff1a-47fe88564365",
        "colab": {
          "base_uri": "https://localhost:8080/",
          "height": 234
        }
      },
      "source": [
        "plt.subplot(121)\n",
        "plt.imshow(X1[0])\n",
        "plt.title(\"affected by Diarrhea\")\n",
        "plt.subplot(122)\n",
        "plt.imshow(X2[0])\n",
        "plt.title(\"not affected by Diarrhea\")"
      ],
      "execution_count": 5,
      "outputs": [
        {
          "output_type": "execute_result",
          "data": {
            "text/plain": [
              "Text(0.5, 1.0, 'not affected by Diarrhea')"
            ]
          },
          "metadata": {
            "tags": []
          },
          "execution_count": 5
        },
        {
          "output_type": "display_data",
          "data": {
            "image/png": "[encoded data removed]",
            "text/plain": [
              "<Figure size 432x288 with 2 Axes>"
            ]
          },
          "metadata": {
            "tags": []
          }
        }
      ]
    },
    {
      "cell_type": "code",
      "metadata": {
        "id": "fl-8qI_1AKA9",
        "colab_type": "code",
        "colab": {}
      },
      "source": [
        "X_train = np.vstack((X1,X2))/255.0\n",
        "Y_train = np.vstack((Y1,Y2))"
      ],
      "execution_count": 0,
      "outputs": []
    },
    {
      "cell_type": "code",
      "metadata": {
        "id": "fW1WmZXgI4U9",
        "colab_type": "code",
        "colab": {}
      },
      "source": [
        "class MycallBack(tf.keras.callbacks.Callback):\n",
        "  def on_epoch_end(self,epochs,logs={}):\n",
        "    if(logs.get('acc') > 0.98):\n",
        "      print('Accuracy reached')\n",
        "      self.model.stop_trianing = True\n",
        "callback = MycallBack()"
      ],
      "execution_count": 0,
      "outputs": []
    },
    {
      "cell_type": "code",
      "metadata": {
        "id": "INu1doQBHy7v",
        "colab_type": "code",
        "outputId": "0bc49d2f-73a5-4660-dfc1-88c0ec85bc57",
        "colab": {
          "base_uri": "https://localhost:8080/",
          "height": 53
        }
      },
      "source": [
        "print(X_train.shape)\n",
        "print(Y_train.shape)"
      ],
      "execution_count": 8,
      "outputs": [
        {
          "output_type": "stream",
          "text": [
            "(22046, 50, 50, 3)\n",
            "(22046, 1)\n"
          ],
          "name": "stdout"
        }
      ]
    },
    {
      "cell_type": "code",
      "metadata": {
        "id": "g6b-KlYDAjJF",
        "colab_type": "code",
        "outputId": "9dd35b86-c722-4ed3-cc54-b65a7c91e9f6",
        "colab": {
          "base_uri": "https://localhost:8080/",
          "height": 517
        }
      },
      "source": [
        "#neural network architecture\n",
        "model = keras.Sequential()\n",
        "model.add(keras.layers.Conv2D(32,(3,3),padding = 'same',activation = 'relu',input_shape = (50,50,3)))\n",
        "model.add(keras.layers.MaxPooling2D(2,2))\n",
        "model.add(keras.layers.Conv2D(64,(3,3),padding = 'same',activation = 'relu'))\n",
        "model.add(keras.layers.MaxPooling2D(2,2))\n",
        "model.add(keras.layers.Flatten())\n",
        "model.add(keras.layers.Dense(520,activation='relu'))\n",
        "model.add(keras.layers.Dropout(0.5))\n",
        "model.add(keras.layers.Dense(240,activation = 'relu'))\n",
        "model.add(keras.layers.Dropout(0.5))\n",
        "model.add(keras.layers.Dense(units=1))\n",
        "model.summary()\n"
      ],
      "execution_count": 9,
      "outputs": [
        {
          "output_type": "stream",
          "text": [
            "Model: \"sequential\"\n",
            "_________________________________________________________________\n",
            "Layer (type)                 Output Shape              Param #   \n",
            "=================================================================\n",
            "conv2d (Conv2D)              (None, 50, 50, 32)        896       \n",
            "_________________________________________________________________\n",
            "max_pooling2d (MaxPooling2D) (None, 25, 25, 32)        0         \n",
            "_________________________________________________________________\n",
            "conv2d_1 (Conv2D)            (None, 25, 25, 64)        18496     \n",
            "_________________________________________________________________\n",
            "max_pooling2d_1 (MaxPooling2 (None, 12, 12, 64)        0         \n",
            "_________________________________________________________________\n",
            "flatten (Flatten)            (None, 9216)              0         \n",
            "_________________________________________________________________\n",
            "dense (Dense)                (None, 520)               4792840   \n",
            "_________________________________________________________________\n",
            "dropout (Dropout)            (None, 520)               0         \n",
            "_________________________________________________________________\n",
            "dense_1 (Dense)              (None, 240)               125040    \n",
            "_________________________________________________________________\n",
            "dropout_1 (Dropout)          (None, 240)               0         \n",
            "_________________________________________________________________\n",
            "dense_2 (Dense)              (None, 1)                 241       \n",
            "=================================================================\n",
            "Total params: 4,937,513\n",
            "Trainable params: 4,937,513\n",
            "Non-trainable params: 0\n",
            "_________________________________________________________________\n"
          ],
          "name": "stdout"
        }
      ]
    },
    {
      "cell_type": "code",
      "metadata": {
        "id": "d-14TXxVHtNZ",
        "colab_type": "code",
        "colab": {}
      },
      "source": [
        "model.compile(optimizer = 'adam',loss = tf.keras.losses.BinaryCrossentropy(from_logits= True),metrics=['acc'])"
      ],
      "execution_count": 0,
      "outputs": []
    },
    {
      "cell_type": "code",
      "metadata": {
        "id": "L0xaz7HqJtA5",
        "colab_type": "code",
        "outputId": "fadd6b65-227a-4df5-810c-9b0a040dafeb",
        "colab": {
          "base_uri": "https://localhost:8080/",
          "height": 589
        }
      },
      "source": [
        "model.fit(X_train,Y_train,epochs = 15)"
      ],
      "execution_count": 11,
      "outputs": [
        {
          "output_type": "stream",
          "text": [
            "Train on 22046 samples\n",
            "Epoch 1/15\n",
            "22046/22046 [==============================] - 16s 737us/sample - loss: 0.6551 - acc: 0.5526\n",
            "Epoch 2/15\n",
            "22046/22046 [==============================] - 16s 717us/sample - loss: 0.2903 - acc: 0.8744\n",
            "Epoch 3/15\n",
            "22046/22046 [==============================] - 16s 720us/sample - loss: 0.1858 - acc: 0.9378\n",
            "Epoch 4/15\n",
            "22046/22046 [==============================] - 16s 720us/sample - loss: 0.1701 - acc: 0.9418\n",
            "Epoch 5/15\n",
            "22046/22046 [==============================] - 16s 723us/sample - loss: 0.1638 - acc: 0.9448\n",
            "Epoch 6/15\n",
            "22046/22046 [==============================] - 16s 724us/sample - loss: 0.1561 - acc: 0.9464\n",
            "Epoch 7/15\n",
            "22046/22046 [==============================] - 16s 735us/sample - loss: 0.1460 - acc: 0.9501\n",
            "Epoch 8/15\n",
            "22046/22046 [==============================] - 16s 729us/sample - loss: 0.1399 - acc: 0.9510\n",
            "Epoch 9/15\n",
            "22046/22046 [==============================] - 16s 722us/sample - loss: 0.1317 - acc: 0.9538\n",
            "Epoch 10/15\n",
            "22046/22046 [==============================] - 15s 691us/sample - loss: 0.1248 - acc: 0.9556\n",
            "Epoch 11/15\n",
            "22046/22046 [==============================] - 15s 673us/sample - loss: 0.1123 - acc: 0.9607\n",
            "Epoch 12/15\n",
            "22046/22046 [==============================] - 16s 717us/sample - loss: 0.1038 - acc: 0.9635\n",
            "Epoch 13/15\n",
            "22046/22046 [==============================] - 15s 674us/sample - loss: 0.0949 - acc: 0.9669\n",
            "Epoch 14/15\n",
            "22046/22046 [==============================] - 15s 667us/sample - loss: 0.0896 - acc: 0.9692\n",
            "Epoch 15/15\n",
            "22046/22046 [==============================] - 14s 656us/sample - loss: 0.0774 - acc: 0.9740\n"
          ],
          "name": "stdout"
        },
        {
          "output_type": "execute_result",
          "data": {
            "text/plain": [
              "<tensorflow.python.keras.callbacks.History at 0x7fcac15d4550>"
            ]
          },
          "metadata": {
            "tags": []
          },
          "execution_count": 11
        }
      ]
    },
    {
      "cell_type": "markdown",
      "metadata": {
        "id": "pH3LqP_12TXw",
        "colab_type": "text"
      },
      "source": [
        "Testing on cross validation set \n"
      ]
    },
    {
      "cell_type": "code",
      "metadata": {
        "id": "VQG15oMoQy8W",
        "colab_type": "code",
        "colab": {}
      },
      "source": [
        "N_X = np.load('/content/drive/My Drive/some3.npy')\n",
        "N_Y = np.ones((N_X.shape[0],1))\n",
        "N_X1 = np.load('/content/drive/My Drive/some4.npy')\n",
        "N_Y1 = np.zeros((N_X1.shape[0],1))"
      ],
      "execution_count": 0,
      "outputs": []
    },
    {
      "cell_type": "code",
      "metadata": {
        "id": "eqPf8WvmS3KC",
        "colab_type": "code",
        "colab": {}
      },
      "source": [
        "X_valid = np.vstack((N_X,N_X1))/255\n",
        "Y_valid = np.vstack((N_Y,N_Y1))"
      ],
      "execution_count": 0,
      "outputs": []
    },
    {
      "cell_type": "code",
      "metadata": {
        "id": "Oz7GZX-dSKUJ",
        "colab_type": "code",
        "outputId": "3f5bc7f9-5f31-4d14-b18b-c904196a02a6",
        "colab": {
          "base_uri": "https://localhost:8080/",
          "height": 53
        }
      },
      "source": [
        "model.evaluate(X_valid,Y_valid)"
      ],
      "execution_count": 14,
      "outputs": [
        {
          "output_type": "stream",
          "text": [
            "5512/5512 [==============================] - 1s 232us/sample - loss: 0.2314 - acc: 0.9434\n"
          ],
          "name": "stdout"
        },
        {
          "output_type": "execute_result",
          "data": {
            "text/plain": [
              "[0.231372594230515, 0.9433962]"
            ]
          },
          "metadata": {
            "tags": []
          },
          "execution_count": 14
        }
      ]
    },
    {
      "cell_type": "code",
      "metadata": {
        "id": "G3MJmmZ-Sr5h",
        "colab_type": "code",
        "colab": {}
      },
      "source": [
        "#accuracy is reached to 94"
      ],
      "execution_count": 0,
      "outputs": []
    },
    {
      "cell_type": "code",
      "metadata": {
        "id": "Raiwv4VHy23x",
        "colab_type": "code",
        "colab": {}
      },
      "source": [
        " "
      ],
      "execution_count": 0,
      "outputs": []
    }
  ]
}