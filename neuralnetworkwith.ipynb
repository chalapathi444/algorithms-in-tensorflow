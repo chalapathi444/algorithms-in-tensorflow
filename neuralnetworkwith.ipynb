{
  "nbformat": 4,
  "nbformat_minor": 0,
  "metadata": {
    "colab": {
      "name": "Untitled37.ipynb",
      "provenance": [],
      "collapsed_sections": [],
      "authorship_tag": "ABX9TyOjZkk3IsszJvbrObr5/d0W",
      "include_colab_link": true
    },
    "kernelspec": {
      "name": "python3",
      "display_name": "Python 3"
    }
  },
  "cells": [
    {
      "cell_type": "markdown",
      "metadata": {
        "id": "view-in-github",
        "colab_type": "text"
      },
      "source": [
        "<a href=\"https://colab.research.google.com/github/chalapathi444/algorithms-in-tensorflow/blob/master/neuralnetworkwith.ipynb\" target=\"_parent\"><img src=\"https://colab.research.google.com/assets/colab-badge.svg\" alt=\"Open In Colab\"/></a>"
      ]
    },
    {
      "cell_type": "code",
      "metadata": {
        "id": "2LUBQp0Kjj-y",
        "colab_type": "code",
        "colab": {}
      },
      "source": [
        "%tensorflow_version 2.x"
      ],
      "execution_count": 0,
      "outputs": []
    },
    {
      "cell_type": "code",
      "metadata": {
        "id": "-FNcKHFu6Chq",
        "colab_type": "code",
        "colab": {}
      },
      "source": [
        "import numpy as np\n",
        "import matplotlib.pyplot as plt\n",
        "import tensorflow as tf\n",
        "from tensorflow import  keras "
      ],
      "execution_count": 0,
      "outputs": []
    },
    {
      "cell_type": "code",
      "metadata": {
        "id": "P_CN2EXa6YIh",
        "colab_type": "code",
        "colab": {}
      },
      "source": [
        "dataset = keras.datasets.fashion_mnist\n",
        "(train_x_set,train_y_set),(test_x_set,test_y_set) = dataset.load_data();"
      ],
      "execution_count": 0,
      "outputs": []
    },
    {
      "cell_type": "code",
      "metadata": {
        "id": "uv9vIcam5dNv",
        "colab_type": "code",
        "colab": {}
      },
      "source": [
        "model = keras.Sequential([\n",
        "    keras.layers.Flatten(input_shape=(28, 28)),\n",
        "    keras.layers.Dense(200, activation='relu'),\n",
        "    keras.layers.Dense(200, activation = 'relu'),\n",
        "    keras.layers.Dense(200,activation = 'relu'),\n",
        "    keras.layers.Dense(10)\n",
        "])\n"
      ],
      "execution_count": 0,
      "outputs": []
    },
    {
      "cell_type": "code",
      "metadata": {
        "id": "G7hml4UnC4C1",
        "colab_type": "code",
        "colab": {}
      },
      "source": [
        "model.compile(optimizer='adam',\n",
        "              loss=tf.keras.losses.SparseCategoricalCrossentropy(from_logits=True),\n",
        "              metrics=['accuracy'])\n"
      ],
      "execution_count": 0,
      "outputs": []
    },
    {
      "cell_type": "code",
      "metadata": {
        "id": "XtQQQ3LWDytu",
        "colab_type": "code",
        "outputId": "66d086ea-c807-4000-95cb-0e328e6a9cbb",
        "colab": {
          "base_uri": "https://localhost:8080/",
          "height": 678
        }
      },
      "source": [
        "train_x_set = train_x_set/255\n",
        "test_x_set = test_x_set/255\n",
        "model.fit(train_x_set,train_y_set,epochs=10)"
      ],
      "execution_count": 88,
      "outputs": [
        {
          "output_type": "stream",
          "text": [
            "60000/60000 [==============================] - 8s 133us/sample - loss: 0.3270 - accuracy: 0.8776\n",
            "Epoch 4/10\n",
            "60000/60000 [==============================] - 8s 135us/sample - loss: 0.3075 - accuracy: 0.8855\n",
            "Epoch 5/10\n",
            "60000/60000 [==============================] - 9s 147us/sample - loss: 0.2894 - accuracy: 0.8922\n",
            "Epoch 6/10\n",
            "60000/60000 [==============================] - 8s 130us/sample - loss: 0.2729 - accuracy: 0.8963\n",
            "Epoch 7/10\n",
            "60000/60000 [==============================] - 8s 137us/sample - loss: 0.2657 - accuracy: 0.9005\n",
            "Epoch 8/10\n",
            "60000/60000 [==============================] - 8s 135us/sample - loss: 0.2527 - accuracy: 0.9038\n",
            "Epoch 9/10\n",
            "60000/60000 [==============================] - 8s 130us/sample - loss: 0.2420 - accuracy: 0.9079\n",
            "Epoch 10/10\n",
            "60000/60000 [==============================] - 8s 134us/sample - loss: 0.2345 - accuracy: 0.9102\n"
          ],
          "name": "stdout"
        },
        {
          "output_type": "execute_result",
          "data": {
            "text/plain": [
              "<tensorflow.python.keras.callbacks.History at 0x7fc5538f95f8>"
            ]
          },
          "metadata": {
            "tags": []
          },
          "execution_count": 80
        },
        {
          "output_type": "stream",
          "text": [
            "Train on 60000 samples\n",
            "Epoch 1/10\n",
            "60000/60000 [==============================] - 9s 157us/sample - loss: 0.4878 - accuracy: 0.8221\n",
            "Epoch 2/10\n",
            "60000/60000 [==============================] - 9s 146us/sample - loss: 0.3674 - accuracy: 0.8646\n",
            "Epoch 3/10\n",
            "60000/60000 [==============================] - 8s 140us/sample - loss: 0.3308 - accuracy: 0.8777\n",
            "Epoch 4/10\n",
            "60000/60000 [==============================] - 9s 148us/sample - loss: 0.3045 - accuracy: 0.8874\n",
            "Epoch 5/10\n",
            "60000/60000 [==============================] - 9s 157us/sample - loss: 0.2890 - accuracy: 0.8926\n",
            "Epoch 6/10\n",
            "60000/60000 [==============================] - 9s 152us/sample - loss: 0.2716 - accuracy: 0.8989\n",
            "Epoch 7/10\n",
            "60000/60000 [==============================] - 9s 150us/sample - loss: 0.2589 - accuracy: 0.9025\n",
            "Epoch 8/10\n",
            "60000/60000 [==============================] - 9s 150us/sample - loss: 0.2503 - accuracy: 0.9069\n",
            "Epoch 9/10\n",
            "60000/60000 [==============================] - 9s 147us/sample - loss: 0.2393 - accuracy: 0.9094\n",
            "Epoch 10/10\n",
            "60000/60000 [==============================] - 9s 144us/sample - loss: 0.2295 - accuracy: 0.9131\n"
          ],
          "name": "stdout"
        },
        {
          "output_type": "execute_result",
          "data": {
            "text/plain": [
              "<tensorflow.python.keras.callbacks.History at 0x7fc55277b9e8>"
            ]
          },
          "metadata": {
            "tags": []
          },
          "execution_count": 88
        }
      ]
    },
    {
      "cell_type": "code",
      "metadata": {
        "id": "fe89zQP_EXl9",
        "colab_type": "code",
        "colab": {}
      },
      "source": [
        "y_re = model.predict(test_x_set)"
      ],
      "execution_count": 0,
      "outputs": []
    },
    {
      "cell_type": "code",
      "metadata": {
        "id": "FSFhzBfdFI49",
        "colab_type": "code",
        "outputId": "9b0db919-9cdc-4fbb-c80b-63ca76103b76",
        "colab": {
          "base_uri": "https://localhost:8080/",
          "height": 53
        }
      },
      "source": [
        "test_loss, test_acc = model.evaluate(test_x_set,  test_y_set, verbose=2)"
      ],
      "execution_count": 90,
      "outputs": [
        {
          "output_type": "stream",
          "text": [
            "10000/10000 - 1s - loss: 0.3281 - accuracy: 0.8860\n",
            "10000/10000 - 1s - loss: 0.3504 - accuracy: 0.8799\n"
          ],
          "name": "stdout"
        }
      ]
    },
    {
      "cell_type": "code",
      "metadata": {
        "id": "fz61ZAxwMHRt",
        "colab_type": "code",
        "colab": {}
      },
      "source": [
        "i = 0\n",
        "plt.figure(figsize=(6,3))\n",
        "plt.subplot(1,2,1)\n",
        "plot_image(i, predictions[i], test_y_set, test_x_set)\n",
        "plt.subplot(1,2,2)\n",
        "plot_value_array(i, predictions[i],  test_y_set)\n",
        "plt.show()\n"
      ],
      "execution_count": 0,
      "outputs": []
    }
  ]
}