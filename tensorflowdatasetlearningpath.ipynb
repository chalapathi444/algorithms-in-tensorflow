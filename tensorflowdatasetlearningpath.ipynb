{
  "nbformat": 4,
  "nbformat_minor": 0,
  "metadata": {
    "colab": {
      "name": "Untitled46.ipynb",
      "provenance": [],
      "authorship_tag": "ABX9TyOIOO7jVStQOYa4R1Y/a1b+",
      "include_colab_link": true
    },
    "kernelspec": {
      "name": "python3",
      "display_name": "Python 3"
    }
  },
  "cells": [
    {
      "cell_type": "markdown",
      "metadata": {
        "id": "view-in-github",
        "colab_type": "text"
      },
      "source": [
        "<a href=\"https://colab.research.google.com/github/chalapathi444/algorithms-in-tensorflow/blob/master/tensorflowdatasetlearningpath.ipynb\" target=\"_parent\"><img src=\"https://colab.research.google.com/assets/colab-badge.svg\" alt=\"Open In Colab\"/></a>"
      ]
    },
    {
      "cell_type": "code",
      "metadata": {
        "id": "Xh9kbXNqlUK6",
        "colab_type": "code",
        "colab": {}
      },
      "source": [
        "%tensorflow_version 2.x"
      ],
      "execution_count": 0,
      "outputs": []
    },
    {
      "cell_type": "code",
      "metadata": {
        "id": "7UbV1YYpla7l",
        "colab_type": "code",
        "colab": {}
      },
      "source": [
        "import tensorflow as tf\n",
        "import numpy as np"
      ],
      "execution_count": 0,
      "outputs": []
    },
    {
      "cell_type": "code",
      "metadata": {
        "id": "z3-mlwWlleRE",
        "colab_type": "code",
        "colab": {
          "base_uri": "https://localhost:8080/",
          "height": 68
        },
        "outputId": "c021e441-4dda-403b-ea65-1f9e3d7983c7"
      },
      "source": [
        "data_set = tf.data.Dataset.from_tensor_slices([1,2,3])\n",
        "for element in data_set:\n",
        "  print(element)"
      ],
      "execution_count": 21,
      "outputs": [
        {
          "output_type": "stream",
          "text": [
            "tf.Tensor(1, shape=(), dtype=int32)\n",
            "tf.Tensor(2, shape=(), dtype=int32)\n",
            "tf.Tensor(3, shape=(), dtype=int32)\n"
          ],
          "name": "stdout"
        }
      ]
    },
    {
      "cell_type": "code",
      "metadata": {
        "id": "vOHW45oHlsHk",
        "colab_type": "code",
        "colab": {
          "base_uri": "https://localhost:8080/",
          "height": 68
        },
        "outputId": "323bca1a-9005-41d6-a5b5-841500ed6df2"
      },
      "source": [
        "data_set2 = data_set.map(lambda x:x*x)\n",
        "for element in data_set2:\n",
        "  print(element)\n"
      ],
      "execution_count": 22,
      "outputs": [
        {
          "output_type": "stream",
          "text": [
            "tf.Tensor(1, shape=(), dtype=int32)\n",
            "tf.Tensor(4, shape=(), dtype=int32)\n",
            "tf.Tensor(9, shape=(), dtype=int32)\n"
          ],
          "name": "stdout"
        }
      ]
    },
    {
      "cell_type": "code",
      "metadata": {
        "id": "r2uYNSF6l3NI",
        "colab_type": "code",
        "colab": {
          "base_uri": "https://localhost:8080/",
          "height": 102
        },
        "outputId": "90b27fe8-3272-42fc-e2f6-5bbc1b16b8ff"
      },
      "source": [
        "data_set3 = tf.data.Dataset.range(100)\n",
        "def func(data):\n",
        "  return data.filter(lambda x: x<5)\n",
        "data_set4 = data_set3.apply(func)\n",
        "for element in data_set4.as_numpy_iterator():\n",
        "  print(element)"
      ],
      "execution_count": 23,
      "outputs": [
        {
          "output_type": "stream",
          "text": [
            "0\n",
            "1\n",
            "2\n",
            "3\n",
            "4\n"
          ],
          "name": "stdout"
        }
      ]
    },
    {
      "cell_type": "code",
      "metadata": {
        "id": "HVAtCJZsmkQs",
        "colab_type": "code",
        "colab": {
          "base_uri": "https://localhost:8080/",
          "height": 68
        },
        "outputId": "beecf7ad-733c-479c-99db-223324e8c9ee"
      },
      "source": [
        "data_set4 = tf.data.Dataset.range(8)\n",
        "data_set_with_batch = data_set4.batch(3)\n",
        "for i in data_set_with_batch:\n",
        "  print(i)"
      ],
      "execution_count": 24,
      "outputs": [
        {
          "output_type": "stream",
          "text": [
            "tf.Tensor([0 1 2], shape=(3,), dtype=int64)\n",
            "tf.Tensor([3 4 5], shape=(3,), dtype=int64)\n",
            "tf.Tensor([6 7], shape=(2,), dtype=int64)\n"
          ],
          "name": "stdout"
        }
      ]
    },
    {
      "cell_type": "code",
      "metadata": {
        "id": "CEn1rRQcnNF8",
        "colab_type": "code",
        "colab": {
          "base_uri": "https://localhost:8080/",
          "height": 51
        },
        "outputId": "c90226d7-8566-4b8f-e6a7-4e1ae181df1e"
      },
      "source": [
        "data_set_with_batch_rem_no = data_set4.batch(3,drop_remainder = True)\n",
        "for i in data_set_with_batch_rem_no:\n",
        "  print(i)"
      ],
      "execution_count": 25,
      "outputs": [
        {
          "output_type": "stream",
          "text": [
            "tf.Tensor([0 1 2], shape=(3,), dtype=int64)\n",
            "tf.Tensor([3 4 5], shape=(3,), dtype=int64)\n"
          ],
          "name": "stdout"
        }
      ]
    },
    {
      "cell_type": "code",
      "metadata": {
        "id": "7bQF7DnQoCk4",
        "colab_type": "code",
        "colab": {}
      },
      "source": [
        "a = tf.data.Dataset.from_tensor_slices([[[1,2,3]],[[4,5,6]]])\n",
        "b = tf.data.Dataset.from_tensor_slices([1,0])\n",
        "c = tf.data.Dataset.zip((a,b))"
      ],
      "execution_count": 0,
      "outputs": []
    },
    {
      "cell_type": "code",
      "metadata": {
        "id": "f0ll4elqo3XG",
        "colab_type": "code",
        "colab": {
          "base_uri": "https://localhost:8080/",
          "height": 51
        },
        "outputId": "e95cb367-ebd0-49b4-f5c1-2520b91ec5e7"
      },
      "source": [
        "for i in c:\n",
        "  print(i)"
      ],
      "execution_count": 27,
      "outputs": [
        {
          "output_type": "stream",
          "text": [
            "(<tf.Tensor: shape=(1, 3), dtype=int32, numpy=array([[1, 2, 3]], dtype=int32)>, <tf.Tensor: shape=(), dtype=int32, numpy=1>)\n",
            "(<tf.Tensor: shape=(1, 3), dtype=int32, numpy=array([[4, 5, 6]], dtype=int32)>, <tf.Tensor: shape=(), dtype=int32, numpy=0>)\n"
          ],
          "name": "stdout"
        }
      ]
    },
    {
      "cell_type": "code",
      "metadata": {
        "id": "elfHNxccpA7F",
        "colab_type": "code",
        "colab": {
          "base_uri": "https://localhost:8080/",
          "height": 153
        },
        "outputId": "080057fa-ef5e-4a38-f19d-e910fb86aebc"
      },
      "source": [
        "dataset1 = tf.data.Dataset.range(8)\n",
        "dataset2 = dataset1.take(4)\n",
        "dataset1 = dataset1.skip(4)\n",
        "#print(list(dataset1.as_numpy_iterator()))\n",
        "dataset3 = dataset1.take(4)\n",
        "for i in dataset2.as_numpy_iterator():\n",
        "  print(i)\n",
        "for j in dataset3.as_numpy_iterator():\n",
        "  print(j)"
      ],
      "execution_count": 28,
      "outputs": [
        {
          "output_type": "stream",
          "text": [
            "0\n",
            "1\n",
            "2\n",
            "3\n",
            "4\n",
            "5\n",
            "6\n",
            "7\n"
          ],
          "name": "stdout"
        }
      ]
    },
    {
      "cell_type": "code",
      "metadata": {
        "id": "P2oETzOLqetK",
        "colab_type": "code",
        "colab": {}
      },
      "source": [
        ""
      ],
      "execution_count": 0,
      "outputs": []
    }
  ]
}